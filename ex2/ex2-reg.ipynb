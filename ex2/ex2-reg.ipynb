{
 "cells": [
  {
   "cell_type": "code",
   "execution_count": 271,
   "metadata": {
    "collapsed": true
   },
   "outputs": [],
   "source": [
    "import numpy as np\n",
    "import matplotlib\n",
    "import matplotlib.pyplot as plt\n",
    "%matplotlib inline \n",
    "import math\n",
    "from mpl_toolkits.mplot3d import Axes3D\n",
    "from matplotlib import cm\n",
    "from pandas import Series, DataFrame\n",
    "import pandas as pd\n",
    "import seaborn as sbs\n",
    "import scipy.optimize as op"
   ]
  },
  {
   "cell_type": "markdown",
   "metadata": {},
   "source": [
    "%% Machine Learning Online Class - Exercise 2: Logistic Regression\n",
    "%\n",
    "%  Instructions\n",
    "%  ------------\n",
    "% \n",
    "%  This file contains code that helps you get started on the logistic\n",
    "%  regression exercise. You will need to complete the following functions \n",
    "%  in this exericse:\n",
    "%\n",
    "%     sigmoid.m\n",
    "%     costFunction.m\n",
    "%     predict.m\n",
    "%     costFunctionReg.m\n",
    "%\n",
    "%  For this exercise, you will not need to change any code in this file,\n",
    "%  or any other files other than those mentioned above.\n",
    "%\n",
    "\n",
    "%% Load Data\n",
    "%  The first two columns contains the exam scores and the third column\n",
    "%  contains the label.\n"
   ]
  },
  {
   "cell_type": "code",
   "execution_count": 272,
   "metadata": {
    "collapsed": false
   },
   "outputs": [],
   "source": [
    "fname='ex2data2.txt';\n",
    "#dtype = np.dtype([('X', 'f8'), ('y', 'f8')])\n",
    "df = pd.read_csv(fname,delimiter=',',header=None)\n",
    "df.columns = ['MicrochipTest1', 'MicrochipTest2','passed']\n",
    "data=np.asmatrix(df)\n",
    "X = np.matrix(data[:, 0:2]); \n",
    "y = np.matrix(data[:, 2]);\n",
    "[m, n] = X.shape;"
   ]
  },
  {
   "cell_type": "markdown",
   "metadata": {},
   "source": [
    "%% ==================== Part 0: Plotting ====================\n",
    "%  We start the exercise by first plotting the data to understand the \n",
    "%  the problem we are working with."
   ]
  },
  {
   "cell_type": "code",
   "execution_count": 273,
   "metadata": {
    "collapsed": false
   },
   "outputs": [
    {
     "name": "stdout",
     "output_type": "stream",
     "text": [
      "['Plotting data with + indicating (passed = 1) examples and o  indicating (passed = 0) examples.\\n']\n"
     ]
    },
    {
     "data": {
      "text/plain": [
       "<matplotlib.text.Text at 0x24638a20>"
      ]
     },
     "execution_count": 273,
     "metadata": {},
     "output_type": "execute_result"
    },
    {
     "data": {
      "image/png": "[encoded data removed]",
      "text/plain": [
       "<matplotlib.figure.Figure at 0x24846470>"
      ]
     },
     "metadata": {},
     "output_type": "display_data"
    }
   ],
   "source": [
    "print(['Plotting data with + indicating (passed = 1) examples and o  indicating (passed = 0) examples.\\n']);\n",
    "sbs.set_context(\"notebook\", font_scale=1.1)\n",
    "sbs.set_style(\"ticks\")\n",
    "sbs.lmplot('MicrochipTest1', 'MicrochipTest2',\n",
    "           data=df,\n",
    "           fit_reg=False,\n",
    "           hue=\"passed\",  \n",
    "        markers=[\"o\", \"+\"],\n",
    "          scatter_kws={\"marker\": \"D\",\n",
    "                        \"s\":50})\n",
    "plt.title('PASS')\n",
    "plt.xlabel('Microchip Test 1')\n",
    "plt.ylabel('Microchip Test 2')\n"
   ]
  },
  {
   "cell_type": "markdown",
   "metadata": {},
   "source": [
    "%% =========== Part 1: Regularized Logistic Regression ============\n",
    "%  In this part, you are given a dataset with data points that are not\n",
    "%  linearly separable. However, you would still like to use logistic \n",
    "%  regression to classify the data points. \n",
    "%\n",
    "%  To do so, you introduce more features to use -- in particular, you add\n",
    "%  polynomial features to our data matrix (similar to polynomial\n",
    "%  regression).\n",
    "%\n",
    "\n",
    "% Add Polynomial Features\n",
    "\n",
    "% Note that mapFeature also adds a column of ones for us, so the intercept\n",
    "% term is handled"
   ]
  },
  {
   "cell_type": "code",
   "execution_count": 274,
   "metadata": {
    "collapsed": true
   },
   "outputs": [],
   "source": [
    "def sigmoid(z):\n",
    "    #%SIGMOID Compute sigmoid function\n",
    "    #%g = SIGMOID(z) computes the sigmoid of z.\n",
    "\n",
    "    #% You need to return the following variables correctly \n",
    "    g = np.matrix(np.zeros(np.shape(z)));\n",
    "\n",
    "#% ====================== YOUR CODE HERE ======================\n",
    "#% Instructions: Compute the sigmoid of each value of z (z can be a matrix,vector or scalar).\n",
    "    g = np.divide(1,(1+np.exp(-z)));    \n",
    "    return g"
   ]
  },
  {
   "cell_type": "code",
   "execution_count": 276,
   "metadata": {
    "collapsed": false
   },
   "outputs": [],
   "source": [
    "def mapFeatures(X):\n",
    "    #% MAPFEATURE Feature mapping function to polynomial features\n",
    "    #%\n",
    "    #%   MAPFEATURE(X) maps the two input features\n",
    "    #%   to quadratic features used in the regularization exercise.\n",
    "    #%   Returns a new feature array with more features, comprising of \n",
    "    #%   X1, X2, X1.^2, X2.^2, X1*X2, X1*X2.^2, etc..\n",
    "    #%   Inputs X1, X2 must be the same size\n",
    "\n",
    "    degree = 6;\n",
    "    [m, n] = X.shape;\n",
    "    out = np.ones((m,1));\n",
    "    for i in range(1,degree+1):\n",
    "        for j in range(i+1):\n",
    "            out=np.append(out,np.multiply(np.power(X[:,0],(i-j)),np.power(X[:,1],j)),axis=1);\n",
    "    return out"
   ]
  },
  {
   "cell_type": "code",
   "execution_count": 277,
   "metadata": {
    "collapsed": false
   },
   "outputs": [],
   "source": [
    "def costFunctionReg(theta, X, y, lamb):\n",
    "    #%COSTFUNCTIONREG Compute cost and gradient for logistic regression with regularization\n",
    "    #%   J = COSTFUNCTIONREG(theta, X, y, lambda) computes the cost of using\n",
    "    #%   theta as the parameter for regularized logistic regression and the\n",
    "    #%   gradient of the cost w.r.t. to the parameters. \n",
    "    #% Initialize some useful values\n",
    "    m=len(y);\n",
    "    J = 0;\n",
    "    grad = np.zeros(theta.shape);\n",
    "    n = theta.shape[0];\n",
    "    if len(np.shape(theta))==1:\n",
    "        theta = np.transpose(np.matrix(theta)); \n",
    "    #Compute the cost of a particular choice of theta.\n",
    "    #You should set J to the cost.\n",
    "    #Compute the partial derivatives and set grad to the partial \n",
    "    #derivatives of the cost w.r.t. each parameter in theta\n",
    "    H=sigmoid(X*theta);\n",
    "    #J = sum((-y.*log(H)-(1-y).*log(1-H)))/m+lambda/2/m*sum(theta(2:n).^2);\n",
    "    J = np.sum(np.multiply(-y,np.log(H))-np.multiply((1-y),np.log(1-H)))/m \\\n",
    "        +np.sum(np.power(theta[1:n],2))*lamb/2.0/m;\n",
    "    grad=np.transpose(X)*(H-y)/m+lamb/m*theta;\n",
    "    grad[0] = grad[0]-lamb/m*theta[0];\n",
    "    #grad=1\n",
    "    return J,grad"
   ]
  },
  {
   "cell_type": "code",
   "execution_count": 278,
   "metadata": {
    "collapsed": false
   },
   "outputs": [
    {
     "name": "stdout",
     "output_type": "stream",
     "text": [
      "Cost at initial theta (zeros): 0.693147\n",
      "Expected cost (approx): 0.693\n",
      "Gradient at initial theta (zeros) - first five values only:\n",
      "[[  8.47457627e-03]\n",
      " [  1.87880932e-02]\n",
      " [  7.77711864e-05]\n",
      " [  5.03446395e-02]\n",
      " [  1.15013308e-02]]\n",
      "Expected gradients (approx) - first five values only:\n",
      " 0.0085\n",
      " 0.0188\n",
      " 0.0001\n",
      " 0.0503\n",
      " 0.0115\n",
      "\n"
     ]
    }
   ],
   "source": [
    "X = mapFeatures(X);\n",
    "n=X.shape[1];\n",
    "#% Initialize fitting parameters\n",
    "initial_theta = np.zeros((n, 1));\n",
    "\n",
    "#% Set regularization parameter lambda to 1\n",
    "lamb = 1;\n",
    "\n",
    "#% Compute and display initial cost and gradient for regularized logistic regression\n",
    "cost, grad = costFunctionReg(initial_theta, X, y, lamb);\n",
    "print('Cost at initial theta (zeros): %f' %cost);\n",
    "print('Expected cost (approx): 0.693');\n",
    "print('Gradient at initial theta (zeros) - first five values only:');\n",
    "print( grad[0:5]);\n",
    "print('Expected gradients (approx) - first five values only:');\n",
    "print(' 0.0085\\n 0.0188\\n 0.0001\\n 0.0503\\n 0.0115\\n');"
   ]
  },
  {
   "cell_type": "code",
   "execution_count": 279,
   "metadata": {
    "collapsed": false
   },
   "outputs": [
    {
     "name": "stdout",
     "output_type": "stream",
     "text": [
      "Cost at test theta: 2.134848\n",
      "Expected cost (approx): 2.13\n",
      "Gradient at test theta - first five values only:\n",
      "[[ 0.34604507]\n",
      " [ 0.07660616]\n",
      " [ 0.11004999]\n",
      " [ 0.14211702]\n",
      " [ 0.00743991]]\n",
      "Expected gradients (approx) - first five values only:\n",
      " 0.3460\n",
      " 0.0851\n",
      " 0.1185\n",
      " 0.1506\n",
      " 0.0159\n",
      "\n"
     ]
    }
   ],
   "source": [
    "test_theta = np.ones((n, 1));\n",
    "[cost, grad] = costFunctionReg(test_theta, X, y, lamb);\n",
    "\n",
    "print('Cost at test theta: %f'% cost);\n",
    "print('Expected cost (approx): 2.13');\n",
    "print('Gradient at test theta - first five values only:');\n",
    "print(grad[0:5]);\n",
    "print('Expected gradients (approx) - first five values only:');\n",
    "print(' 0.3460\\n 0.0851\\n 0.1185\\n 0.1506\\n 0.0159\\n');"
   ]
  },
  {
   "cell_type": "markdown",
   "metadata": {},
   "source": [
    "%% ============= Part 2: Regularization and Accuracies =============\n",
    "%  Optional Exercise:\n",
    "%  In this part, you will get to try different values of lambda and \n",
    "%  see how regularization affects the decision coundart\n",
    "%\n",
    "%  Try the following values of lambda (0, 1, 10, 100).\n",
    "%\n",
    "%  How does the decision boundary change when you vary lambda? How does\n",
    "%  the training set accuracy vary?"
   ]
  },
  {
   "cell_type": "code",
   "execution_count": 288,
   "metadata": {
    "collapsed": false
   },
   "outputs": [],
   "source": [
    "lamb=10 #try lamb = 0 (88.9%);lamb = 0.5 (83.2); 1(84.7);10(84.75);100()\n",
    "Result = op.minimize(fun = costFunctionReg, \n",
    "                    x0 = initial_theta, \n",
    "                    args = (X, y,lamb),\n",
    "                    method = 'TNC',\n",
    "                    jac = True);\n",
    "optimal_theta = np.transpose(np.matrix(Result.x))\n",
    "cost, grad = costFunctionReg(optimal_theta, X, y,lamb);\n"
   ]
  },
  {
   "cell_type": "markdown",
   "metadata": {},
   "source": [
    "function plotDecisionBoundary(theta, X, y) \n",
    "%PLOTDECISIONBOUNDARY Plots the data points X and y into a new figure with \n",
    "%the decision boundary defined by theta \n",
    "% PLOTDECISIONBOUNDARY(theta, X,y) plots the data points with + for the \n",
    "% positive examples and o for the negative examples. X is assumed to be \n",
    "% a either \n",
    "% 1) Mx3 matrix, where the first column is an all-ones column for the \n",
    "% intercept. \n",
    "% 2) MxN, N>3 matrix, where the first column is all-ones"
   ]
  },
  {
   "cell_type": "code",
   "execution_count": 281,
   "metadata": {
    "collapsed": false
   },
   "outputs": [],
   "source": [
    "def plotDecisionBoundary(theta, X, y):\n",
    "    m,n=X.shape    \n",
    "    if n <= 3:\n",
    "        #% Only need 2 points to define a line, so choose two endpoints\n",
    "        plot_x = (np.min(X[:,2])-2,  np.max(X[:,2])+2);\n",
    "        #% Calculate the decision boundary line\n",
    "        plot_y = np.multiply(np.divide(-1,theta[2]),np.multiply(theta[1],plot_x) + theta[0]);\n",
    "\n",
    "    #% Plot, and adjust axes for better viewing\n",
    "        plt.plot(plot_x, plot_y,lw=2);\n",
    "        plt.axis([30, 100, 30, 100])\n",
    "    \n",
    "    #% Legend, specific for the exercise\n",
    "        #plt.legend(bbox_to_anchor=(1.05, 1), loc=2, borderaxespad=0.,['Admitted', 'Not admitted', 'Decision Boundary'])     \n",
    "    else:\n",
    "        #% Here is the grid range\n",
    "        u = np.linspace(-1, 1.5, 50);\n",
    "        v = np.linspace(-1, 1.5, 50);\n",
    "        u_surf,v_surf=np.meshgrid(u,v);\n",
    "        z = np.zeros((len(u),len(v)));\n",
    "        #% Evaluate z = theta*x over the grid\n",
    "        for i in range(len(u)):\n",
    "            for j in range(len(v)):\n",
    "                z[i,j] = mapFeatures(np.matrix([u[i],v[j]]))*theta;\n",
    "        return u,v,z"
   ]
  },
  {
   "cell_type": "code",
   "execution_count": 297,
   "metadata": {
    "collapsed": false
   },
   "outputs": [
    {
     "data": {
      "text/plain": [
       "<a list of 4 text.Text objects>"
      ]
     },
     "execution_count": 297,
     "metadata": {},
     "output_type": "execute_result"
    },
    {
     "data": {
      "image/png": "[encoded data removed]",
      "text/plain": [
       "<matplotlib.figure.Figure at 0x25cf79e8>"
      ]
     },
     "metadata": {},
     "output_type": "display_data"
    }
   ],
   "source": [
    "u,v,z=plotDecisionBoundary(optimal_theta, X, y)\n",
    "sbs.set_context(\"notebook\", font_scale=1.1)\n",
    "sbs.set_style(\"ticks\")\n",
    "sbs.lmplot('MicrochipTest1', 'MicrochipTest2',\n",
    "           data=df,\n",
    "           fit_reg=False,\n",
    "           hue=\"passed\",  \n",
    "        markers=[\"o\", \"+\"],\n",
    "          scatter_kws={\"marker\": \"D\",\n",
    "                        \"s\":50})\n",
    "plt.title('PASS')\n",
    "plt.xlabel('Microchip Test 1')\n",
    "plt.ylabel('Microchip Test 2')\n",
    "plt.hold(True)\n",
    "CS=plt.contourf(u, v, z, 5,alpha=0.5,cmap='RdGy')\n",
    "plt.clabel(CS, inline=True, fontsize=10)"
   ]
  },
  {
   "cell_type": "code",
   "execution_count": 283,
   "metadata": {
    "collapsed": true
   },
   "outputs": [],
   "source": [
    "def predict(theta, X):\n",
    "    #%PREDICT Predict whether the label is 0 or 1 using learned logistic \n",
    "    #%regression parameters theta\n",
    "    #%   p = PREDICT(theta, X) computes the predictions for X using a \n",
    "    #%   threshold at 0.5 (i.e., if sigmoid(theta'*x) >= 0.5, predict 1)\n",
    "\n",
    "    m,n = X.shape; #% Number of training examples\n",
    "\n",
    "    #% You need to return the following variables correctly\n",
    "    p = np.zeros((m, 1));\n",
    "\n",
    "    #% ====================== YOUR CODE HERE ======================\n",
    "    #% Instructions: Complete the following code to make predictions using\n",
    "    #%               your learned logistic regression parameters. \n",
    "    #%               You should set p to a vector of 0's and 1's\n",
    "\n",
    "    p= sigmoid(X*theta);\n",
    "    def comp(x):\n",
    "        if x>=0.5:\n",
    "            y=1\n",
    "        else:\n",
    "            y=0\n",
    "        return y\n",
    "    p = np.array(map(lambda x: comp(x), p))\n",
    "    return p"
   ]
  },
  {
   "cell_type": "code",
   "execution_count": 298,
   "metadata": {
    "collapsed": false
   },
   "outputs": [
    {
     "name": "stdout",
     "output_type": "stream",
     "text": [
      "Train Accuracy: 84.745763\n",
      "Expected accuracy (with lambda = 1): 83.1 (approx)\n"
     ]
    }
   ],
   "source": [
    "p = predict(optimal_theta, X);\n",
    "p = np.transpose(np.matrix(p));\n",
    "accuracy = np.mean((np.equal(p,y)).astype(int))*100\n",
    "print('Train Accuracy: %f' %accuracy);\n",
    "print('Expected accuracy (with lambda = 1): 83.1 (approx)');\n"
   ]
  },
  {
   "cell_type": "code",
   "execution_count": 1,
   "metadata": {
    "collapsed": false
   },
   "outputs": [
    {
     "ename": "ImportError",
     "evalue": "cannot import name random_sample",
     "output_type": "error",
     "traceback": [
      "\u001b[1;31m---------------------------------------------------------------------------\u001b[0m",
      "\u001b[1;31mImportError\u001b[0m                               Traceback (most recent call last)",
      "\u001b[1;32m<ipython-input-1-85aa3c2659f2>\u001b[0m in \u001b[0;36m<module>\u001b[1;34m()\u001b[0m\n\u001b[1;32m----> 1\u001b[1;33m \u001b[1;32mfrom\u001b[0m \u001b[0mnumpy\u001b[0m \u001b[1;32mimport\u001b[0m \u001b[0mrandom_sample\u001b[0m\u001b[1;33m\u001b[0m\u001b[0m\n\u001b[0m",
      "\u001b[1;31mImportError\u001b[0m: cannot import name random_sample"
     ]
    }
   ],
   "source": [
    "from numpy import random_sample"
   ]
  },
  {
   "cell_type": "markdown",
   "metadata": {},
   "source": [
    "###### np.array([u == v for u in p]).astype(int)"
   ]
  }
 ],
 "metadata": {
  "kernelspec": {
   "display_name": "Python 2",
   "language": "python",
   "name": "python2"
  },
  "language_info": {
   "codemirror_mode": {
    "name": "ipython",
    "version": 2
   },
   "file_extension": ".py",
   "mimetype": "text/x-python",
   "name": "python",
   "nbconvert_exporter": "python",
   "pygments_lexer": "ipython2",
   "version": "2.7.12"
  }
 },
 "nbformat": 4,
 "nbformat_minor": 0
}
