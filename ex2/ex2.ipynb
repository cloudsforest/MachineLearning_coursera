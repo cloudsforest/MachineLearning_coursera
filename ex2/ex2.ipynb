{
 "cells": [
  {
   "cell_type": "code",
   "execution_count": 1,
   "metadata": {
    "collapsed": true
   },
   "outputs": [],
   "source": [
    "import numpy as np\n",
    "import matplotlib\n",
    "import matplotlib.pyplot as plt\n",
    "%matplotlib inline \n",
    "import math\n",
    "from mpl_toolkits.mplot3d import Axes3D\n",
    "from matplotlib import cm\n",
    "from pandas import Series, DataFrame\n",
    "import pandas as pd\n",
    "import seaborn as sbs\n",
    "import scipy.optimize as op"
   ]
  },
  {
   "cell_type": "markdown",
   "metadata": {},
   "source": [
    "%% Machine Learning Online Class - Exercise 2: Logistic Regression\n",
    "%\n",
    "%  Instructions\n",
    "%  ------------\n",
    "% \n",
    "%  This file contains code that helps you get started on the logistic\n",
    "%  regression exercise. You will need to complete the following functions \n",
    "%  in this exericse:\n",
    "%\n",
    "%     sigmoid.m\n",
    "%     costFunction.m\n",
    "%     predict.m\n",
    "%     costFunctionReg.m\n",
    "%\n",
    "%  For this exercise, you will not need to change any code in this file,\n",
    "%  or any other files other than those mentioned above.\n",
    "%\n",
    "\n",
    "%% Load Data\n",
    "%  The first two columns contains the exam scores and the third column\n",
    "%  contains the label.\n"
   ]
  },
  {
   "cell_type": "code",
   "execution_count": 2,
   "metadata": {
    "collapsed": false
   },
   "outputs": [],
   "source": [
    "fname='ex2data1.txt';\n",
    "#dtype = np.dtype([('X', 'f8'), ('y', 'f8')])\n",
    "df = pd.read_csv(fname,delimiter=',',header=None)\n",
    "df.columns = ['exam1', 'exam2','admitted']\n",
    "data=np.asmatrix(df)\n",
    "X = np.matrix(data[:, 0:2]); \n",
    "y = np.matrix(data[:, 2]);\n",
    "[m, n] = X.shape;"
   ]
  },
  {
   "cell_type": "markdown",
   "metadata": {},
   "source": [
    "%% ==================== Part 1: Plotting ====================\n",
    "%  We start the exercise by first plotting the data to understand the \n",
    "%  the problem we are working with."
   ]
  },
  {
   "cell_type": "code",
   "execution_count": 3,
   "metadata": {
    "collapsed": false
   },
   "outputs": [
    {
     "name": "stdout",
     "output_type": "stream",
     "text": [
      "['Plotting data with + indicating (y = 1) examples and o  indicating (y = 0) examples.\\n']\n"
     ]
    },
    {
     "data": {
      "text/plain": [
       "<matplotlib.text.Text at 0xdd4db38>"
      ]
     },
     "execution_count": 3,
     "metadata": {},
     "output_type": "execute_result"
    },
    {
     "data": {
      "image/png": "[encoded data removed]",
      "text/plain": [
       "<matplotlib.figure.Figure at 0xdc70cc0>"
      ]
     },
     "metadata": {},
     "output_type": "display_data"
    }
   ],
   "source": [
    "print(['Plotting data with + indicating (y = 1) examples and o  indicating (y = 0) examples.\\n']);\n",
    "sbs.set_context(\"notebook\", font_scale=1.1)\n",
    "sbs.set_style(\"ticks\")\n",
    "sbs.lmplot('exam1', 'exam2',\n",
    "           data=df,\n",
    "           fit_reg=False,\n",
    "           hue=\"admitted\",  \n",
    "        markers=[\"o\", \"+\"],\n",
    "          scatter_kws={\"marker\": \"D\",\n",
    "                        \"s\":50})\n",
    "plt.title('admission')\n",
    "plt.xlabel('Exam 1 score')\n",
    "plt.ylabel('Exam 2 score')\n"
   ]
  },
  {
   "cell_type": "markdown",
   "metadata": {},
   "source": [
    "%% ============ Part 2: Compute Cost and Gradient ============\n",
    "%  In this part of the exercise, you will implement the cost and gradient\n",
    "%  for logistic regression. You neeed to complete the code in \n",
    "%  costFunction.m"
   ]
  },
  {
   "cell_type": "code",
   "execution_count": 374,
   "metadata": {
    "collapsed": true
   },
   "outputs": [],
   "source": [
    "def sigmoid(z):\n",
    "    #%SIGMOID Compute sigmoid function\n",
    "    #%g = SIGMOID(z) computes the sigmoid of z.\n",
    "\n",
    "    #% You need to return the following variables correctly \n",
    "    g = np.matrix(np.zeros(np.shape(z)));\n",
    "\n",
    "#% ====================== YOUR CODE HERE ======================\n",
    "#% Instructions: Compute the sigmoid of each value of z (z can be a matrix,vector or scalar).\n",
    "    g = np.divide(1,(1+np.exp(-z)));    \n",
    "    return g"
   ]
  },
  {
   "cell_type": "code",
   "execution_count": 375,
   "metadata": {
    "collapsed": false
   },
   "outputs": [],
   "source": [
    "def costFunction(theta, X, y):\n",
    "#%COSTFUNCTION Compute cost and gradient for logistic regression\n",
    "#%   J = COSTFUNCTION(theta, X, y) computes the cost of using theta as the\n",
    "#%   parameter for logistic regression and the gradient of the cost\n",
    "#%   w.r.t. to the parameters.\n",
    "\n",
    "#% Initialize some useful values\n",
    "    m = len(y); #% number of training examples\n",
    "\n",
    "#% You need to return the following variables correctly \n",
    "    J = 0;\n",
    "    \n",
    "\n",
    "#% ====================== YOUR CODE HERE ======================\n",
    "#% Instructions: Compute the cost of a particular choice of theta.\n",
    "#%               You should set J to the cost.\n",
    "#%               Compute the partial derivatives and set grad to the partial\n",
    "#%               derivatives of the cost w.r.t. each parameter in theta\n",
    "#%\n",
    "#% Note: grad should have the same dimensions as theta\n",
    "    if len(np.shape(theta))==1:\n",
    "        theta = np.transpose(np.matrix(theta));  \n",
    "    grad = np.zeros(np.shape(theta));\n",
    "    H=sigmoid(X*theta);\n",
    "    J = np.sum(np.multiply(-y,np.log(H))-np.multiply((1-y),np.log(1-H)))/m;\n",
    "    grad=np.transpose(X)*(H-y)/m;\n",
    "    #grad=1\n",
    "    return J,grad;\n",
    "#%theta_temp = initial_theta-grad;\n",
    "#% theta = theta_temp;"
   ]
  },
  {
   "cell_type": "code",
   "execution_count": 376,
   "metadata": {
    "collapsed": false
   },
   "outputs": [
    {
     "name": "stdout",
     "output_type": "stream",
     "text": [
      "Cost at initial theta (zeros): 0.693147\n",
      "Expected cost (approx): 0.693\n",
      "Gradient at initial theta (zeros): \n",
      "grad=-0.1000  \n",
      "grad=-12.0092  \n",
      "grad=-11.2628  \n",
      "Expected gradients (approx):\n",
      " -0.1000\n",
      " -12.0092\n",
      " -11.2628\n",
      "\n"
     ]
    }
   ],
   "source": [
    "#%  Setup the data matrix appropriately, and add ones for the intercept term\n",
    "#% Add intercept term to x and X_test\n",
    "X = np.c_[np.ones(m), data[:,0:2]];\n",
    "\n",
    "#% Initialize fitting parameters\n",
    "initial_theta = np.matrix(np.zeros((n + 1, 1)));\n",
    "\n",
    "#% Compute and display initial cost and gradient\n",
    "cost, grad = costFunction(initial_theta, X, y);\n",
    "\n",
    "print('Cost at initial theta (zeros): %f'% cost);\n",
    "print('Expected cost (approx): 0.693');\n",
    "print('Gradient at initial theta (zeros): ');\n",
    "for i in range(len(grad)): print 'grad=%.4f  ' %(grad[i])\n",
    "#print(' %f \\n' % grad);\n",
    "print('Expected gradients (approx):\\n -0.1000\\n -12.0092\\n -11.2628\\n');"
   ]
  },
  {
   "cell_type": "code",
   "execution_count": 377,
   "metadata": {
    "collapsed": false
   },
   "outputs": [
    {
     "name": "stdout",
     "output_type": "stream",
     "text": [
      "\n",
      "Cost at test theta: 0.218330\n",
      "Expected cost (approx): 0.218\n",
      "Gradient at test theta: \n",
      "grad=0.0429  \n",
      "grad=2.5662  \n",
      "grad=2.6468  \n",
      "Expected gradients (approx):\n",
      " 0.043\n",
      " 2.566\n",
      " 2.647\n",
      "\n"
     ]
    }
   ],
   "source": [
    "test_theta = np.transpose(np.matrix([-24,0.2,0.2]));\n",
    "cost, grad = costFunction(test_theta, X, y);\n",
    "print('\\nCost at test theta: %f'%cost);\n",
    "print('Expected cost (approx): 0.218');\n",
    "print('Gradient at test theta: ');\n",
    "for i in range(len(grad)): print 'grad=%.4f  ' %(grad[i])\n",
    "print('Expected gradients (approx):\\n 0.043\\n 2.566\\n 2.647\\n');\n"
   ]
  },
  {
   "cell_type": "markdown",
   "metadata": {},
   "source": [
    "%% ============= Part 3: Optimizing using fminunc  =============\n",
    "%  In this exercise, you will use a built-in function (fminunc) to find the\n",
    "%  optimal parameters theta."
   ]
  },
  {
   "cell_type": "code",
   "execution_count": 378,
   "metadata": {
    "collapsed": false
   },
   "outputs": [
    {
     "name": "stdout",
     "output_type": "stream",
     "text": [
      "('Cost at theta found by fminunc: %f', 0.20349770158947444)\n",
      "Expected cost (approx): 0.203\n",
      "theta: \n",
      "grad=-25.1613  \n",
      "grad=0.2062  \n",
      "grad=0.2015  \n",
      "Expected theta (approx):\n",
      " -25.161\n",
      " 0.206\n",
      " 0.201\n",
      "\n"
     ]
    }
   ],
   "source": [
    "#%  Set options for fminunc\n",
    "#options = optimset('GradObj', 'on', 'MaxIter', 400);\n",
    "#%  Run fminunc to obtain the optimal theta\n",
    "#%  This function will return theta and the cost \n",
    "Result = op.minimize(fun = costFunction, \n",
    "                    x0 = initial_theta, \n",
    "                    args = (X, y),\n",
    "                    method = 'TNC',\n",
    "                    jac = True);\n",
    "optimal_theta = Result.x;\n",
    "cost, grad = costFunction(optimal_theta, X, y);\n",
    "\n",
    "#% Print theta to screen\n",
    "print('Cost at theta found by fminunc: %f', cost);\n",
    "print('Expected cost (approx): 0.203');\n",
    "print('theta: ');\n",
    "for i in range(len(optimal_theta)): print 'grad=%.4f  ' %(optimal_theta[i])\n",
    "print('Expected theta (approx):');\n",
    "print(' -25.161\\n 0.206\\n 0.201\\n');\n",
    "\n"
   ]
  },
  {
   "cell_type": "markdown",
   "metadata": {},
   "source": [
    "function plotDecisionBoundary(theta, X, y)\n",
    "%PLOTDECISIONBOUNDARY Plots the data points X and y into a new figure with\n",
    "%the decision boundary defined by theta\n",
    "%   PLOTDECISIONBOUNDARY(theta, X,y) plots the data points with + for the \n",
    "%   positive examples and o for the negative examples. X is assumed to be \n",
    "%   a either \n",
    "%   1) Mx3 matrix, where the first column is an all-ones column for the \n",
    "%      intercept.\n",
    "%   2) MxN, N>3 matrix, where the first column is all-ones"
   ]
  },
  {
   "cell_type": "markdown",
   "metadata": {},
   "source": [
    "m"
   ]
  },
  {
   "cell_type": "code",
   "execution_count": 379,
   "metadata": {
    "collapsed": false
   },
   "outputs": [],
   "source": [
    "def plotDecisionBoundary(theta, X, y):\n",
    "    m,n=X.shape    \n",
    "    if n <= 3:\n",
    "        #% Only need 2 points to define a line, so choose two endpoints\n",
    "        plot_x = (np.min(X[:,2])-2,  np.max(X[:,2])+2);\n",
    "        #% Calculate the decision boundary line\n",
    "        plot_y = np.multiply(np.divide(-1,theta[2]),np.multiply(theta[1],plot_x) + theta[0]);\n",
    "\n",
    "    #% Plot, and adjust axes for better viewing\n",
    "        plt.plot(plot_x, plot_y,lw=2);\n",
    "        plt.axis([30, 100, 30, 100])\n",
    "    \n",
    "    #% Legend, specific for the exercise\n",
    "        #plt.legend(bbox_to_anchor=(1.05, 1), loc=2, borderaxespad=0.,['Admitted', 'Not admitted', 'Decision Boundary'])\n",
    "        \n",
    "        \n",
    "    else:\n",
    "        #% Here is the grid range\n",
    "        u = np.linspace(-1, 1.5, 50);\n",
    "        v = np.linspace(-1, 1.5, 50);\n",
    "        u_surf,v_surf=np.meshgrid(u,v);\n",
    "        z = np.zeros((len(u),len(v)));\n",
    "        #% Evaluate z = theta*x over the grid\n",
    "        for i in range(len(u)):\n",
    "            for j in range(len(v)):\n",
    "                z[i,j] = mapFeatures(np.matrix([u[i],v[j]]))*theta;\n",
    "        return u,v,z\n"
   ]
  },
  {
   "cell_type": "code",
   "execution_count": 380,
   "metadata": {
    "collapsed": false
   },
   "outputs": [
    {
     "data": {
      "image/png": "[encoded data removed]",
      "text/plain": [
       "<matplotlib.figure.Figure at 0x201a5240>"
      ]
     },
     "metadata": {},
     "output_type": "display_data"
    }
   ],
   "source": [
    "#% Plot Boundary\n",
    "sbs.set_context(\"notebook\", font_scale=1.1)\n",
    "sbs.set_style(\"ticks\")\n",
    "sbs.lmplot('exam1', 'exam2',\n",
    "           data=df,\n",
    "           fit_reg=False,\n",
    "           hue=\"admitted\",  \n",
    "        markers=[\"o\", \"+\"],\n",
    "          scatter_kws={\"marker\": \"D\",\n",
    "                        \"s\":50})\n",
    "plt.title('admission')\n",
    "plt.xlabel('Exam 1 score')\n",
    "plt.ylabel('Exam 2 score')\n",
    "plt.hold(True)\n",
    "plotDecisionBoundary(optimal_theta, X, y);"
   ]
  },
  {
   "cell_type": "code",
   "execution_count": null,
   "metadata": {
    "collapsed": true
   },
   "outputs": [],
   "source": []
  },
  {
   "cell_type": "markdown",
   "metadata": {},
   "source": [
    "%% ============== Part 4: Predict and Accuracies ==============\n",
    "%  After learning the parameters, you'll like to use it to predict the outcomes\n",
    "%  on unseen data. In this part, you will use the logistic regression model\n",
    "%  to predict the probability that a student with score 45 on exam 1 and \n",
    "%  score 85 on exam 2 will be admitted.\n",
    "%\n",
    "%  Furthermore, you will compute the training and test set accuracies of \n",
    "%  our model.\n",
    "%\n",
    "%  Your task is to complete the code in predict.m\n",
    "\n",
    "%  Predict probability for a student with score 45 on exam 1 \n",
    "%  and score 85 on exam 2 \n"
   ]
  },
  {
   "cell_type": "code",
   "execution_count": 389,
   "metadata": {
    "collapsed": false
   },
   "outputs": [],
   "source": [
    "def predict(theta, X):\n",
    "    #%PREDICT Predict whether the label is 0 or 1 using learned logistic \n",
    "    #%regression parameters theta\n",
    "    #%   p = PREDICT(theta, X) computes the predictions for X using a \n",
    "    #%   threshold at 0.5 (i.e., if sigmoid(theta'*x) >= 0.5, predict 1)\n",
    "\n",
    "    m,n = X.shape; #% Number of training examples\n",
    "\n",
    "    #% You need to return the following variables correctly\n",
    "    p = np.zeros((m, 1));\n",
    "\n",
    "    #% ====================== YOUR CODE HERE ======================\n",
    "    #% Instructions: Complete the following code to make predictions using\n",
    "    #%               your learned logistic regression parameters. \n",
    "    #%               You should set p to a vector of 0's and 1's\n",
    "\n",
    "    p= sigmoid(X*theta);\n",
    "    return [1 if x>=0.5 else 0 for x in p]"
   ]
  },
  {
   "cell_type": "code",
   "execution_count": 404,
   "metadata": {
    "collapsed": false
   },
   "outputs": [
    {
     "name": "stdout",
     "output_type": "stream",
     "text": [
      "For a student with scores 45 and 85, we predict an admission probability of 0.776291\n",
      "\n",
      "Expected value: 0.775 +/- 0.002\n",
      "Train Accuracy: 89.000000\n",
      "\n",
      "Expected accuracy (approx): 89.0\n"
     ]
    }
   ],
   "source": [
    "prob = sigmoid([1,45,85] * np.transpose(np.matrix(optimal_theta)));\n",
    "print('For a student with scores 45 and 85, we predict an admission probability of %f\\n' % prob);\n",
    "print('Expected value: 0.775 +/- 0.002');\n",
    "#% Compute accuracy on our training set\n",
    "p = predict(np.transpose(np.matrix(optimal_theta)), X);\n",
    "accuracy = np.mean((np.equal(p,np.ravel(y))).astype(int))*100\n",
    "print('Train Accuracy: %f\\n' %accuracy);\n",
    "print('Expected accuracy (approx): 89.0');"
   ]
  },
  {
   "cell_type": "markdown",
   "metadata": {},
   "source": [
    "###### np.array([u == v for u in p]).astype(int)"
   ]
  },
  {
   "cell_type": "code",
   "execution_count": null,
   "metadata": {
    "collapsed": true
   },
   "outputs": [],
   "source": []
  }
 ],
 "metadata": {
  "kernelspec": {
   "display_name": "Python 2",
   "language": "python",
   "name": "python2"
  },
  "language_info": {
   "codemirror_mode": {
    "name": "ipython",
    "version": 2
   },
   "file_extension": ".py",
   "mimetype": "text/x-python",
   "name": "python",
   "nbconvert_exporter": "python",
   "pygments_lexer": "ipython2",
   "version": "2.7.12"
  }
 },
 "nbformat": 4,
 "nbformat_minor": 0
}
